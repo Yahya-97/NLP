{
 "cells": [
  {
   "cell_type": "code",
   "execution_count": 1,
   "id": "pharmaceutical-concentrate",
   "metadata": {},
   "outputs": [],
   "source": [
    "import numpy as np\n",
    "\n",
    "import json\n",
    "import tensorflow as tf\n",
    "\n",
    "from tensorflow.keras.preprocessing.text import Tokenizer\n",
    "from tensorflow.keras.preprocessing.sequence import pad_sequences"
   ]
  },
  {
   "cell_type": "code",
   "execution_count": 2,
   "id": "optical-departure",
   "metadata": {},
   "outputs": [
    {
     "name": "stdout",
     "output_type": "stream",
     "text": [
      "--2021-05-26 11:12:49--  https://storage.googleapis.com/laurencemoroney-blog.appspot.com/sarcasm.json\n",
      "Resolving storage.googleapis.com (storage.googleapis.com)... 216.58.215.240, 172.217.168.80, 172.217.168.48, ...\n",
      "Connecting to storage.googleapis.com (storage.googleapis.com)|216.58.215.240|:443... connected.\n",
      "HTTP request sent, awaiting response... 200 OK\n",
      "Length: 5643545 (5.4M) [application/json]\n",
      "Saving to: ‘/tmp/sarcasm.json’\n",
      "\n",
      "/tmp/sarcasm.json   100%[===================>]   5.38M   772KB/s    in 9.7s    \n",
      "\n",
      "2021-05-26 11:12:59 (570 KB/s) - ‘/tmp/sarcasm.json’ saved [5643545/5643545]\n",
      "\n"
     ]
    }
   ],
   "source": [
    "!wget --no-check-certificate \\\n",
    "    https://storage.googleapis.com/laurencemoroney-blog.appspot.com/sarcasm.json \\\n",
    "    -O /tmp/sarcasm.json\n",
    "\n",
    "vocab_size = 1000\n",
    "embedding_dim = 16\n",
    "max_length = 120\n",
    "trunc_type='post'\n",
    "padding_type='post'\n",
    "oov_tok = \"<OOV>\"\n",
    "training_size = 20000\n",
    "\n",
    "\n",
    "with open(\"/tmp/sarcasm.json\", 'r') as f:\n",
    "    datastore = json.load(f)\n",
    "\n",
    "\n",
    "sentences = []\n",
    "labels = []\n",
    "urls = []\n",
    "for item in datastore:\n",
    "    sentences.append(item['headline'])\n",
    "    labels.append(item['is_sarcastic'])\n",
    "\n",
    "training_sentences = sentences[0:training_size]\n",
    "testing_sentences = sentences[training_size:]\n",
    "training_labels = labels[0:training_size]\n",
    "testing_labels = labels[training_size:]\n"
   ]
  },
  {
   "cell_type": "code",
   "execution_count": 3,
   "id": "upset-consolidation",
   "metadata": {},
   "outputs": [],
   "source": [
    "tokenizer = Tokenizer(num_words=vocab_size,oov_token=oov_tok)\n",
    "tokenizer.fit_on_texts(training_sentences)\n",
    "word_index = tokenizer.word_index\n",
    "training_sequence = tokenizer.texts_to_sequences(training_sentences)\n",
    "training_padded = pad_sequences(training_sequence,maxlen=max_length, padding=padding_type, truncating=trunc_type)\n",
    "\n",
    "testing_sequences = tokenizer.texts_to_sequences(testing_sentences)\n",
    "testing_padded = pad_sequences(testing_sequences, maxlen=max_length, padding=padding_type, truncating=trunc_type)"
   ]
  },
  {
   "cell_type": "code",
   "execution_count": 6,
   "id": "exempt-external",
   "metadata": {},
   "outputs": [
    {
     "name": "stdout",
     "output_type": "stream",
     "text": [
      "Model: \"sequential\"\n",
      "_________________________________________________________________\n",
      "Layer (type)                 Output Shape              Param #   \n",
      "=================================================================\n",
      "embedding (Embedding)        (None, 120, 16)           16000     \n",
      "_________________________________________________________________\n",
      "bidirectional (Bidirectional (None, 64)                12544     \n",
      "_________________________________________________________________\n",
      "dense (Dense)                (None, 24)                1560      \n",
      "_________________________________________________________________\n",
      "dense_1 (Dense)              (None, 1)                 25        \n",
      "=================================================================\n",
      "Total params: 30,129\n",
      "Trainable params: 30,129\n",
      "Non-trainable params: 0\n",
      "_________________________________________________________________\n",
      "Epoch 1/50\n",
      "625/625 [==============================] - 34s 48ms/step - loss: 0.5382 - accuracy: 0.6961 - val_loss: 0.3990 - val_accuracy: 0.8149\n",
      "Epoch 2/50\n",
      "625/625 [==============================] - 30s 48ms/step - loss: 0.3641 - accuracy: 0.8375 - val_loss: 0.3829 - val_accuracy: 0.8217\n",
      "Epoch 3/50\n",
      "625/625 [==============================] - 29s 47ms/step - loss: 0.3350 - accuracy: 0.8483 - val_loss: 0.3704 - val_accuracy: 0.8292\n",
      "Epoch 4/50\n",
      "625/625 [==============================] - 29s 47ms/step - loss: 0.3202 - accuracy: 0.8545 - val_loss: 0.3781 - val_accuracy: 0.8274\n",
      "Epoch 5/50\n",
      "625/625 [==============================] - 29s 47ms/step - loss: 0.2928 - accuracy: 0.8712 - val_loss: 0.3741 - val_accuracy: 0.8302\n",
      "Epoch 6/50\n",
      "625/625 [==============================] - 30s 48ms/step - loss: 0.2842 - accuracy: 0.8763 - val_loss: 0.3802 - val_accuracy: 0.8332\n",
      "Epoch 7/50\n",
      "625/625 [==============================] - 29s 47ms/step - loss: 0.2804 - accuracy: 0.8763 - val_loss: 0.3840 - val_accuracy: 0.8340\n",
      "Epoch 8/50\n",
      "625/625 [==============================] - 29s 46ms/step - loss: 0.2644 - accuracy: 0.8883 - val_loss: 0.3857 - val_accuracy: 0.8289\n",
      "Epoch 9/50\n",
      "625/625 [==============================] - 29s 46ms/step - loss: 0.2597 - accuracy: 0.8909 - val_loss: 0.3976 - val_accuracy: 0.8286\n",
      "Epoch 10/50\n",
      "625/625 [==============================] - 30s 49ms/step - loss: 0.2473 - accuracy: 0.8979 - val_loss: 0.3990 - val_accuracy: 0.8293\n",
      "Epoch 11/50\n",
      "625/625 [==============================] - 31s 50ms/step - loss: 0.2387 - accuracy: 0.8996 - val_loss: 0.4135 - val_accuracy: 0.8283\n",
      "Epoch 12/50\n",
      "625/625 [==============================] - 29s 46ms/step - loss: 0.2324 - accuracy: 0.9030 - val_loss: 0.4223 - val_accuracy: 0.8240\n",
      "Epoch 13/50\n",
      "625/625 [==============================] - 29s 46ms/step - loss: 0.2262 - accuracy: 0.9057 - val_loss: 0.4340 - val_accuracy: 0.8210\n",
      "Epoch 14/50\n",
      "625/625 [==============================] - 29s 46ms/step - loss: 0.2147 - accuracy: 0.9139 - val_loss: 0.4435 - val_accuracy: 0.8199\n",
      "Epoch 15/50\n",
      "625/625 [==============================] - 30s 48ms/step - loss: 0.2046 - accuracy: 0.9164 - val_loss: 0.4533 - val_accuracy: 0.8193\n",
      "Epoch 16/50\n",
      "625/625 [==============================] - 29s 46ms/step - loss: 0.2050 - accuracy: 0.9128 - val_loss: 0.4799 - val_accuracy: 0.8189\n",
      "Epoch 17/50\n",
      "625/625 [==============================] - 29s 46ms/step - loss: 0.1945 - accuracy: 0.9190 - val_loss: 0.5150 - val_accuracy: 0.8170\n",
      "Epoch 18/50\n",
      "625/625 [==============================] - 28s 46ms/step - loss: 0.1852 - accuracy: 0.9250 - val_loss: 0.5161 - val_accuracy: 0.8176\n",
      "Epoch 19/50\n",
      "625/625 [==============================] - 30s 47ms/step - loss: 0.1843 - accuracy: 0.9268 - val_loss: 0.5428 - val_accuracy: 0.8190\n",
      "Epoch 20/50\n",
      "625/625 [==============================] - 28s 46ms/step - loss: 0.1824 - accuracy: 0.9265 - val_loss: 0.5596 - val_accuracy: 0.8073\n",
      "Epoch 21/50\n",
      "625/625 [==============================] - 29s 46ms/step - loss: 0.1719 - accuracy: 0.9295 - val_loss: 0.5829 - val_accuracy: 0.8110\n",
      "Epoch 22/50\n",
      "625/625 [==============================] - 29s 47ms/step - loss: 0.1596 - accuracy: 0.9362 - val_loss: 0.6031 - val_accuracy: 0.8040\n",
      "Epoch 23/50\n",
      "625/625 [==============================] - 30s 48ms/step - loss: 0.1514 - accuracy: 0.9394 - val_loss: 0.6446 - val_accuracy: 0.8095\n",
      "Epoch 24/50\n",
      "625/625 [==============================] - 29s 46ms/step - loss: 0.1509 - accuracy: 0.9404 - val_loss: 0.7334 - val_accuracy: 0.8173\n",
      "Epoch 25/50\n",
      "625/625 [==============================] - 29s 46ms/step - loss: 0.1392 - accuracy: 0.9433 - val_loss: 0.7165 - val_accuracy: 0.8107\n",
      "Epoch 26/50\n",
      "625/625 [==============================] - 29s 46ms/step - loss: 0.1365 - accuracy: 0.9464 - val_loss: 0.7494 - val_accuracy: 0.8149\n",
      "Epoch 27/50\n",
      "625/625 [==============================] - 30s 47ms/step - loss: 0.1296 - accuracy: 0.9470 - val_loss: 0.8127 - val_accuracy: 0.8086\n",
      "Epoch 28/50\n",
      "625/625 [==============================] - 28s 46ms/step - loss: 0.1196 - accuracy: 0.9523 - val_loss: 0.8077 - val_accuracy: 0.8047\n",
      "Epoch 29/50\n",
      "625/625 [==============================] - 29s 47ms/step - loss: 0.1175 - accuracy: 0.9533 - val_loss: 0.8843 - val_accuracy: 0.8088\n",
      "Epoch 30/50\n",
      "625/625 [==============================] - 29s 46ms/step - loss: 0.1109 - accuracy: 0.9555 - val_loss: 0.9849 - val_accuracy: 0.8070\n",
      "Epoch 31/50\n",
      "625/625 [==============================] - 30s 48ms/step - loss: 0.1073 - accuracy: 0.9579 - val_loss: 0.9582 - val_accuracy: 0.8095\n",
      "Epoch 32/50\n",
      "625/625 [==============================] - 30s 47ms/step - loss: 0.1047 - accuracy: 0.9573 - val_loss: 0.9909 - val_accuracy: 0.8047\n",
      "Epoch 33/50\n",
      "625/625 [==============================] - 29s 46ms/step - loss: 0.1008 - accuracy: 0.9591 - val_loss: 1.0663 - val_accuracy: 0.8015\n",
      "Epoch 34/50\n",
      "625/625 [==============================] - 29s 47ms/step - loss: 0.0981 - accuracy: 0.9598 - val_loss: 1.1707 - val_accuracy: 0.8041\n",
      "Epoch 35/50\n",
      "625/625 [==============================] - 30s 49ms/step - loss: 0.0918 - accuracy: 0.9612 - val_loss: 1.1162 - val_accuracy: 0.8028\n",
      "Epoch 36/50\n",
      "625/625 [==============================] - 29s 47ms/step - loss: 0.0923 - accuracy: 0.9620 - val_loss: 1.2039 - val_accuracy: 0.8046\n",
      "Epoch 37/50\n",
      "625/625 [==============================] - 29s 47ms/step - loss: 0.0883 - accuracy: 0.9637 - val_loss: 1.2672 - val_accuracy: 0.8031\n",
      "Epoch 38/50\n",
      "625/625 [==============================] - 29s 47ms/step - loss: 0.0840 - accuracy: 0.9641 - val_loss: 1.3418 - val_accuracy: 0.8056\n",
      "Epoch 39/50\n",
      "625/625 [==============================] - 30s 49ms/step - loss: 0.0876 - accuracy: 0.9628 - val_loss: 1.2761 - val_accuracy: 0.8043\n",
      "Epoch 40/50\n",
      "625/625 [==============================] - 29s 46ms/step - loss: 0.0751 - accuracy: 0.9686 - val_loss: 1.4082 - val_accuracy: 0.8041\n",
      "Epoch 41/50\n",
      "625/625 [==============================] - 29s 47ms/step - loss: 0.0747 - accuracy: 0.9694 - val_loss: 1.4473 - val_accuracy: 0.8052\n",
      "Epoch 42/50\n",
      "625/625 [==============================] - 29s 47ms/step - loss: 0.0734 - accuracy: 0.9694 - val_loss: 1.4755 - val_accuracy: 0.8050\n",
      "Epoch 43/50\n",
      "625/625 [==============================] - 31s 50ms/step - loss: 0.0740 - accuracy: 0.9689 - val_loss: 1.5358 - val_accuracy: 0.8041\n",
      "Epoch 44/50\n",
      "625/625 [==============================] - 32s 51ms/step - loss: 0.0702 - accuracy: 0.9721 - val_loss: 1.5016 - val_accuracy: 0.8053\n",
      "Epoch 45/50\n",
      "625/625 [==============================] - 39s 62ms/step - loss: 0.0680 - accuracy: 0.9705 - val_loss: 1.4913 - val_accuracy: 0.8047\n",
      "Epoch 46/50\n",
      "625/625 [==============================] - 30s 48ms/step - loss: 0.0625 - accuracy: 0.9733 - val_loss: 1.7111 - val_accuracy: 0.8064\n",
      "Epoch 47/50\n",
      "625/625 [==============================] - 34s 55ms/step - loss: 0.0621 - accuracy: 0.9722 - val_loss: 1.7481 - val_accuracy: 0.8034\n",
      "Epoch 48/50\n",
      "625/625 [==============================] - 34s 54ms/step - loss: 0.0593 - accuracy: 0.9747 - val_loss: 1.7696 - val_accuracy: 0.8055\n",
      "Epoch 49/50\n",
      "625/625 [==============================] - 32s 51ms/step - loss: 0.0619 - accuracy: 0.9724 - val_loss: 1.7476 - val_accuracy: 0.8046\n",
      "Epoch 50/50\n",
      "625/625 [==============================] - 31s 49ms/step - loss: 0.0618 - accuracy: 0.9727 - val_loss: 1.6747 - val_accuracy: 0.8007\n"
     ]
    }
   ],
   "source": [
    "model = tf.keras.Sequential([\n",
    "    tf.keras.layers.Embedding(vocab_size, embedding_dim, input_length=max_length),\n",
    "    tf.keras.layers.Bidirectional(tf.keras.layers.LSTM(32)),\n",
    "    tf.keras.layers.Dense(24, activation='relu'),\n",
    "    tf.keras.layers.Dense(1, activation='sigmoid')\n",
    "])\n",
    "model.compile(loss='binary_crossentropy',optimizer='adam',metrics=['accuracy'])\n",
    "model.summary()\n",
    "\n",
    "num_epochs = 50\n",
    "training_padded = np.array(training_padded)\n",
    "training_labels = np.array(training_labels)\n",
    "testing_padded = np.array(testing_padded)\n",
    "testing_labels = np.array(testing_labels)\n",
    "history = model.fit(training_padded, training_labels, epochs=num_epochs, validation_data=(testing_padded, testing_labels), verbose=1)"
   ]
  },
  {
   "cell_type": "code",
   "execution_count": 7,
   "id": "diverse-baker",
   "metadata": {},
   "outputs": [
    {
     "data": {
      "image/png": "[encoded data removed]",
      "text/plain": [
       "<Figure size 432x288 with 1 Axes>"
      ]
     },
     "metadata": {
      "needs_background": "light"
     },
     "output_type": "display_data"
    },
    {
     "data": {
      "image/png": "[encoded data removed]",
      "text/plain": [
       "<Figure size 432x288 with 1 Axes>"
      ]
     },
     "metadata": {
      "needs_background": "light"
     },
     "output_type": "display_data"
    }
   ],
   "source": [
    "import matplotlib.pyplot as plt\n",
    "\n",
    "\n",
    "def plot_graphs(history, string):\n",
    "  plt.plot(history.history[string])\n",
    "  plt.plot(history.history['val_'+string])\n",
    "  plt.xlabel(\"Epochs\")\n",
    "  plt.ylabel(string)\n",
    "  plt.legend([string, 'val_'+string])\n",
    "  plt.show()\n",
    "\n",
    "plot_graphs(history, 'accuracy')\n",
    "plot_graphs(history, 'loss')"
   ]
  },
  {
   "cell_type": "code",
   "execution_count": null,
   "id": "interracial-momentum",
   "metadata": {},
   "outputs": [],
   "source": []
  }
 ],
 "metadata": {
  "kernelspec": {
   "display_name": "Python 3",
   "language": "python",
   "name": "python3"
  },
  "language_info": {
   "codemirror_mode": {
    "name": "ipython",
    "version": 3
   },
   "file_extension": ".py",
   "mimetype": "text/x-python",
   "name": "python",
   "nbconvert_exporter": "python",
   "pygments_lexer": "ipython3",
   "version": "3.7.10"
  }
 },
 "nbformat": 4,
 "nbformat_minor": 5
}
